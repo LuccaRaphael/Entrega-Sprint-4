{
  "cells": [
    {
      "cell_type": "markdown",
      "source": [
        "# Leadtech - Estilista Inteligente"
      ],
      "metadata": {
        "id": "aKvx8G1X9wHJ"
      }
    },
    {
      "cell_type": "markdown",
      "source": [
        "### Objetivo: Este script realiza o treinamento de um modelo YOLOv5 customizado para identificar peças de moda."
      ],
      "metadata": {
        "id": "uUpl6lOU90c1"
      }
    },
    {
      "cell_type": "code",
      "execution_count": null,
      "metadata": {
        "id": "ezT_b2O6vWOt"
      },
      "outputs": [],
      "source": [
        "# Clona o repositório YOLOv5 do GitHub para o ambiente de trabalho\n",
        "!git clone https://github.com/ultralytics/yolov5.git"
      ]
    },
    {
      "cell_type": "code",
      "execution_count": null,
      "metadata": {
        "id": "f_swrXxcveyh"
      },
      "outputs": [],
      "source": [
        "# Altera o diretório de trabalho para a pasta YOLOv5 para facilitar a execução dos scripts\n",
        "os.chdir('yolov5')"
      ]
    },
    {
      "cell_type": "code",
      "execution_count": null,
      "metadata": {
        "id": "g2arp2FuSBOm"
      },
      "outputs": [],
      "source": [
        "# Instala todas as dependências listadas no arquivo requirements.txt do YOLOv5\n",
        "!pip install -r requirements.txt"
      ]
    },
    {
      "cell_type": "code",
      "execution_count": null,
      "metadata": {
        "id": "cnaUuG34SauS"
      },
      "outputs": [],
      "source": [
        "# Executa o treinamento inicial do modelo YOLOv5 com os dados e parâmetros especificados\n",
        "!python train.py --data data.yaml --weights yolov5s.pt --img 512 --batch-size 8 --name Model --epochs 1"
      ]
    },
    {
      "cell_type": "code",
      "execution_count": null,
      "metadata": {
        "id": "72UnojGZT0Bk"
      },
      "outputs": [],
      "source": [
        "# Executa o treinamento completo com as configurações anteriores, usando o melhor modelo da primeira rodada para ajuste\n",
        "!python train.py --data data.yaml --weights runs/train/Model/weights/best.pt --img 512 --batch-size 8 --name Model --epochs 100"
      ]
    },
    {
      "cell_type": "code",
      "execution_count": null,
      "metadata": {
        "id": "JKqCmRJJcpAh"
      },
      "outputs": [],
      "source": [
        "# Exporta o modelo treinado para o formato ONNX, que permite integração em outros ambientes de inferência\n",
        "!python export.py --weights runs/train/Model2/weights/best.pt --include onnx --simplify --opset 12"
      ]
    }
  ],
  "metadata": {
    "accelerator": "GPU",
    "colab": {
      "gpuType": "T4",
      "machine_shape": "hm",
      "provenance": []
    },
    "kernelspec": {
      "display_name": "Python 3",
      "name": "python3"
    },
    "language_info": {
      "name": "python"
    }
  },
  "nbformat": 4,
  "nbformat_minor": 0
}